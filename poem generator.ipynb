{
 "cells": [
  {
   "cell_type": "markdown",
   "metadata": {},
   "source": [
    "<div align=center>\n",
    "\t\t\n",
    "<p></p>\n",
    "<p></p>\n",
    "<font size=5>\n",
    "به نام خدا\n",
    "<font/>\n",
    "<p></p>\n",
    "<p></p>\n",
    "<font color=green size=4>\n",
    "بازیابی پیشرفته اطلاعات - تمرین سوم\n",
    "<br/>\n",
    "بوستان و گلستان سعدی\n",
    "</font>\n",
    "<br/>\n",
    "<br/>\n",
    "<font size=3>\n",
    "بهار 1401\n",
    "<br/>\n",
    "<font/>\n",
    "<br/>\n",
    "\n",
    "\n",
    "</div>\n",
    "\n",
    "<hr/>\n",
    "<div align=center>\n",
    "\t\t    <font size=3>\n",
    "\t\t\t    <br />\n",
    "\t\t\t\tگروه 33:\n",
    "\t\t\t\tعلی مهربانی ، آرمان سلیمانی ، پانیذ حلواچی\n",
    "            \t<br/>\n",
    "\t\t\t</font>\n",
    "    <br/>\n",
    "    </div>"
   ]
  },
  {
   "cell_type": "markdown",
   "metadata": {},
   "source": [
    "<div align=center>\n",
    "\t\t    <font size=4 color=green>\n",
    "\t\t\t    <br />\n",
    "                بخش اول:\n",
    "                </font>\n",
    "                <font size=3>\n",
    "                دریافت داده‌ها\n",
    "            \t<br/>\n",
    "\t\t\t</font>\n",
    "    <br/>\n",
    "    </div>\n",
    "    <hr/>"
   ]
  },
  {
   "cell_type": "code",
   "execution_count": null,
   "metadata": {},
   "outputs": [],
   "source": []
  },
  {
   "cell_type": "markdown",
   "metadata": {},
   "source": [
    "<div align=center>\n",
    "\t\t    <font size=4 color=green>\n",
    "\t\t\t    <br />\n",
    "                بخش دوم:\n",
    "                </font>\n",
    "                <font size=3>\n",
    "                پیش پردازش اولیه متن\n",
    "            \t<br/>\n",
    "\t\t\t</font>\n",
    "    <br/>\n",
    "    </div>\n",
    "    <hr/>"
   ]
  },
  {
   "cell_type": "code",
   "execution_count": null,
   "metadata": {},
   "outputs": [],
   "source": []
  },
  {
   "cell_type": "markdown",
   "metadata": {},
   "source": [
    "<div align=center>\n",
    "\t\t    <font size=4 color=green>\n",
    "\t\t\t    <br />\n",
    "                بخش سوم:\n",
    "                </font>\n",
    "                <font size=3>\n",
    "                پیشنهاد شعر\n",
    "            \t<br/>\n",
    "\t\t\t</font>\n",
    "    <br/>\n",
    "    </div>\n",
    "    <hr/>"
   ]
  },
  {
   "cell_type": "code",
   "execution_count": null,
   "metadata": {},
   "outputs": [],
   "source": []
  }
 ],
 "metadata": {
  "language_info": {
   "name": "python"
  },
  "orig_nbformat": 4
 },
 "nbformat": 4,
 "nbformat_minor": 2
}
