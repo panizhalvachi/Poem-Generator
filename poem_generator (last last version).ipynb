{
 "cells": [
  {
   "cell_type": "markdown",
   "metadata": {
    "id": "05DbpfyohEWx"
   },
   "source": [
    "<div align=center>\n",
    "\t\t\n",
    "<p></p>\n",
    "<p></p>\n",
    "<font size=5>\n",
    "به نام خدا\n",
    "<font/>\n",
    "<p></p>\n",
    "<p></p>\n",
    "<font color=green size=4>\n",
    "بازیابی پیشرفته اطلاعات - تمرین سوم\n",
    "<br/>\n",
    "بوستان و گلستان سعدی\n",
    "</font>\n",
    "<br/>\n",
    "<br/>\n",
    "<font size=3>\n",
    "بهار 1401\n",
    "<br/>\n",
    "<font/>\n",
    "<br/>\n",
    "\n",
    "\n",
    "</div>\n",
    "\n",
    "<hr/>\n",
    "<div align=center>\n",
    "\t\t    <font size=3>\n",
    "\t\t\t    <br />\n",
    "\t\t\t\tگروه 33:\n",
    "\t\t\t\tعلی مهربانی ، آرمان سلیمانی ، پانیذ حلواچی\n",
    "            \t<br/>\n",
    "\t\t\t</font>\n",
    "    <br/>\n",
    "    </div>"
   ]
  },
  {
   "cell_type": "code",
   "execution_count": 2,
   "metadata": {
    "colab": {
     "base_uri": "https://localhost:8080/"
    },
    "id": "B6mih4H0hEW4",
    "outputId": "6ad2d811-2e7c-4e30-aa8f-f548c5461f3b"
   },
   "outputs": [
    {
     "name": "stdout",
     "output_type": "stream",
     "text": [
      "Requirement already satisfied: hazm in c:\\users\\arman\\appdata\\local\\programs\\python\\python39\\lib\\site-packages (0.7.0)\n",
      "Requirement already satisfied: nltk==3.3 in c:\\users\\arman\\appdata\\local\\programs\\python\\python39\\lib\\site-packages (from hazm) (3.3)\n",
      "Requirement already satisfied: six in c:\\users\\arman\\appdata\\local\\programs\\python\\python39\\lib\\site-packages (from nltk==3.3->hazm) (1.16.0)\n"
     ]
    },
    {
     "name": "stderr",
     "output_type": "stream",
     "text": [
      "WARNING: You are using pip version 21.2.3; however, version 22.1.2 is available.\n",
      "You should consider upgrading via the 'C:\\Users\\arman\\AppData\\Local\\Programs\\Python\\Python39\\python.exe -m pip install --upgrade pip' command.\n",
      "WARNING: You are using pip version 21.2.3; however, version 22.1.2 is available.\n",
      "You should consider upgrading via the 'C:\\Users\\arman\\AppData\\Local\\Programs\\Python\\Python39\\python.exe -m pip install --upgrade pip' command.\n"
     ]
    },
    {
     "name": "stdout",
     "output_type": "stream",
     "text": [
      "Requirement already satisfied: sentence_transformers in c:\\users\\arman\\appdata\\local\\programs\\python\\python39\\lib\\site-packages (2.2.0)\n",
      "Requirement already satisfied: torch>=1.6.0 in c:\\users\\arman\\appdata\\local\\programs\\python\\python39\\lib\\site-packages (from sentence_transformers) (1.11.0)\n",
      "Requirement already satisfied: huggingface-hub in c:\\users\\arman\\appdata\\local\\programs\\python\\python39\\lib\\site-packages (from sentence_transformers) (0.7.0)\n",
      "Requirement already satisfied: torchvision in c:\\users\\arman\\appdata\\local\\programs\\python\\python39\\lib\\site-packages (from sentence_transformers) (0.12.0)\n",
      "Requirement already satisfied: numpy in c:\\users\\arman\\appdata\\local\\programs\\python\\python39\\lib\\site-packages (from sentence_transformers) (1.21.4)\n",
      "Requirement already satisfied: transformers<5.0.0,>=4.6.0 in c:\\users\\arman\\appdata\\local\\programs\\python\\python39\\lib\\site-packages (from sentence_transformers) (4.19.2)\n",
      "Requirement already satisfied: scikit-learn in c:\\users\\arman\\appdata\\local\\programs\\python\\python39\\lib\\site-packages (from sentence_transformers) (1.0.2)\n",
      "Requirement already satisfied: scipy in c:\\users\\arman\\appdata\\local\\programs\\python\\python39\\lib\\site-packages (from sentence_transformers) (1.7.3)\n",
      "Requirement already satisfied: tqdm in c:\\users\\arman\\appdata\\local\\programs\\python\\python39\\lib\\site-packages (from sentence_transformers) (4.64.0)\n",
      "Requirement already satisfied: nltk in c:\\users\\arman\\appdata\\local\\programs\\python\\python39\\lib\\site-packages (from sentence_transformers) (3.3)\n",
      "Requirement already satisfied: sentencepiece in c:\\users\\arman\\appdata\\local\\programs\\python\\python39\\lib\\site-packages (from sentence_transformers) (0.1.96)\n",
      "Requirement already satisfied: typing-extensions in c:\\users\\arman\\appdata\\local\\programs\\python\\python39\\lib\\site-packages (from torch>=1.6.0->sentence_transformers) (4.0.1)\n",
      "Requirement already satisfied: filelock in c:\\users\\arman\\appdata\\local\\programs\\python\\python39\\lib\\site-packages (from transformers<5.0.0,>=4.6.0->sentence_transformers) (3.7.1)\n",
      "Requirement already satisfied: regex!=2019.12.17 in c:\\users\\arman\\appdata\\local\\programs\\python\\python39\\lib\\site-packages (from transformers<5.0.0,>=4.6.0->sentence_transformers) (2022.6.2)\n",
      "Requirement already satisfied: requests in c:\\users\\arman\\appdata\\local\\programs\\python\\python39\\lib\\site-packages (from transformers<5.0.0,>=4.6.0->sentence_transformers) (2.26.0)\n",
      "Requirement already satisfied: packaging>=20.0 in c:\\users\\arman\\appdata\\local\\programs\\python\\python39\\lib\\site-packages (from transformers<5.0.0,>=4.6.0->sentence_transformers) (21.0)\n",
      "Requirement already satisfied: pyyaml>=5.1 in c:\\users\\arman\\appdata\\local\\programs\\python\\python39\\lib\\site-packages (from transformers<5.0.0,>=4.6.0->sentence_transformers) (6.0)\n",
      "Requirement already satisfied: tokenizers!=0.11.3,<0.13,>=0.11.1 in c:\\users\\arman\\appdata\\local\\programs\\python\\python39\\lib\\site-packages (from transformers<5.0.0,>=4.6.0->sentence_transformers) (0.12.1)\n",
      "Requirement already satisfied: pyparsing>=2.0.2 in c:\\users\\arman\\appdata\\local\\programs\\python\\python39\\lib\\site-packages (from packaging>=20.0->transformers<5.0.0,>=4.6.0->sentence_transformers) (2.4.7)\n",
      "Requirement already satisfied: colorama in c:\\users\\arman\\appdata\\local\\programs\\python\\python39\\lib\\site-packages (from tqdm->sentence_transformers) (0.4.4)\n",
      "Requirement already satisfied: six in c:\\users\\arman\\appdata\\local\\programs\\python\\python39\\lib\\site-packages (from nltk->sentence_transformers) (1.16.0)\n",
      "Requirement already satisfied: certifi>=2017.4.17 in c:\\users\\arman\\appdata\\local\\programs\\python\\python39\\lib\\site-packages (from requests->transformers<5.0.0,>=4.6.0->sentence_transformers) (2021.5.30)\n",
      "Requirement already satisfied: urllib3<1.27,>=1.21.1 in c:\\users\\arman\\appdata\\local\\programs\\python\\python39\\lib\\site-packages (from requests->transformers<5.0.0,>=4.6.0->sentence_transformers) (1.26.7)\n",
      "Requirement already satisfied: idna<4,>=2.5 in c:\\users\\arman\\appdata\\local\\programs\\python\\python39\\lib\\site-packages (from requests->transformers<5.0.0,>=4.6.0->sentence_transformers) (3.2)\n",
      "Requirement already satisfied: charset-normalizer~=2.0.0 in c:\\users\\arman\\appdata\\local\\programs\\python\\python39\\lib\\site-packages (from requests->transformers<5.0.0,>=4.6.0->sentence_transformers) (2.0.6)\n",
      "Requirement already satisfied: joblib>=0.11 in c:\\users\\arman\\appdata\\local\\programs\\python\\python39\\lib\\site-packages (from scikit-learn->sentence_transformers) (1.1.0)\n",
      "Requirement already satisfied: threadpoolctl>=2.0.0 in c:\\users\\arman\\appdata\\local\\programs\\python\\python39\\lib\\site-packages (from scikit-learn->sentence_transformers) (3.0.0)\n",
      "Requirement already satisfied: pillow!=8.3.*,>=5.3.0 in c:\\users\\arman\\appdata\\local\\programs\\python\\python39\\lib\\site-packages (from torchvision->sentence_transformers) (8.4.0)\n"
     ]
    },
    {
     "name": "stderr",
     "output_type": "stream",
     "text": [
      "C:\\Users\\arman\\AppData\\Local\\Programs\\Python\\Python39\\lib\\site-packages\\tqdm\\auto.py:22: TqdmWarning: IProgress not found. Please update jupyter and ipywidgets. See https://ipywidgets.readthedocs.io/en/stable/user_install.html\n",
      "  from .autonotebook import tqdm as notebook_tqdm\n"
     ]
    }
   ],
   "source": [
    "#import necessary libraries\n",
    "!pip install hazm\n",
    "!pip install sentence_transformers\n",
    "from sentence_transformers import SentenceTransformer\n",
    "from __future__ import unicode_literals\n",
    "from hazm import *\n",
    "import json\n",
    "from random import randint\n",
    "from nltk import FreqDist\n",
    "import itertools\n",
    "import pandas as pd\n",
    "import matplotlib.pyplot as plt\n",
    "from os import listdir\n",
    "import codecs\n",
    "from sklearn.feature_extraction.text import CountVectorizer\n",
    "from sklearn.feature_extraction.text import TfidfVectorizer\n",
    "from scipy import spatial\n",
    "from gensim.models import FastText\n",
    "from sklearn.metrics.pairwise import cosine_similarity"
   ]
  },
  {
   "cell_type": "markdown",
   "metadata": {
    "id": "CDeCwWWbhEW5"
   },
   "source": [
    "<div align=center>\n",
    "\t\t    <font size=4 color=green>\n",
    "\t\t\t    <br />\n",
    "                بخش اول:\n",
    "                </font>\n",
    "                <font size=3>\n",
    "                دریافت داده‌ها\n",
    "            \t<br/>\n",
    "\t\t\t</font>\n",
    "    <br/>\n",
    "    </div>\n",
    "    <hr/>"
   ]
  },
  {
   "cell_type": "code",
   "execution_count": 3,
   "metadata": {
    "id": "lpBF6TSQhEW6"
   },
   "outputs": [],
   "source": [
    "all_files = listdir('Boostan/')\n",
    "\n",
    "i = 0\n",
    "df = pd.DataFrame(columns=[0])\n",
    "\n",
    "for p in all_files:\n",
    "    f = open('Boostan/' + p, 'r', encoding='utf8')\n",
    "    \n",
    "    has_poems = True\n",
    "    \n",
    "    \n",
    "    while has_poems:\n",
    "        poem = ''\n",
    "        \n",
    "        while True:\n",
    "            s = f.readline()\n",
    "            if '$' in s:\n",
    "                has_poems = False\n",
    "                break\n",
    "            elif '_' in s:\n",
    "                break\n",
    "            poem = poem + s\n",
    "        \n",
    "        #inja ye poem kamel shode\n",
    "        if poem != '':\n",
    "            df.loc[i] = poem\n",
    "            i = i + 1"
   ]
  },
  {
   "cell_type": "code",
   "execution_count": 4,
   "metadata": {
    "colab": {
     "base_uri": "https://localhost:8080/"
    },
    "id": "JY6Me7JFhEW7",
    "outputId": "ff41bb40-f8c6-405e-c006-6f01a6868db3"
   },
   "outputs": [
    {
     "data": {
      "text/plain": [
       "224"
      ]
     },
     "execution_count": 4,
     "metadata": {},
     "output_type": "execute_result"
    }
   ],
   "source": [
    "df.size"
   ]
  },
  {
   "cell_type": "markdown",
   "metadata": {
    "id": "HBNA0rl_hEW8"
   },
   "source": [
    "<div align=center>\n",
    "\t\t    <font size=4 color=green>\n",
    "\t\t\t    <br />\n",
    "                بخش دوم:\n",
    "                </font>\n",
    "                <font size=3>\n",
    "                پیش پردازش اولیه متن\n",
    "            \t<br/>\n",
    "\t\t\t</font>\n",
    "    <br/>\n",
    "    </div>\n",
    "    <hr/>"
   ]
  },
  {
   "cell_type": "code",
   "execution_count": 5,
   "metadata": {
    "colab": {
     "base_uri": "https://localhost:8080/"
    },
    "id": "57ew0w_hhEW9",
    "outputId": "e1e628f6-f059-4473-8ae8-9525c4e12669",
    "scrolled": false
   },
   "outputs": [
    {
     "name": "stdout",
     "output_type": "stream",
     "text": [
      "چنین یاد دارم که سقای نیل\n",
      "نکرد آب بر مصر سالی سبیل\n",
      "گروهی سوی کوهساران شدند\n",
      "به فریاد خواهان باران شدند\n",
      "گرستند و از گریه جویی روان\n",
      "نیامد مگر گریهٔ آسمان\n",
      "به ذوالنون خبر برد از ایشان کسی\n",
      "که بر خلق رنج است و زحمت بسی\n",
      "فرو ماندگان را دعایی بکن\n",
      "که مقبول را رد نباشد سخن\n",
      "شنیدم که ذوالنون به مدین گریخت\n",
      "بسی بر نیامد که باران بریخت\n",
      "خبر شد به مدین پس از روز بیست\n",
      "که ابر سیه دل بر ایشان گریست\n",
      "سبک عزم باز آمدن کرد پیر\n",
      "که پر شد به سیل بهاران غدیر\n",
      "بپرسید از او عارفی در نهفت\n",
      "چه حکمت در این رفتنت بود؟ گفت\n",
      "شنیدم که بر مرغ و مور و ددان\n",
      "شود تنگ روزی به فعل بدان\n",
      "در این کشور اندیشه کردم بسی\n",
      "پریشان‌تر از خود ندیدم کسی\n",
      "برفتم مبادا که از شر من\n",
      "ببندد در خیر بر انجمن\n",
      "بهی بایدت لطف کن کان بهان\n",
      "ندیدندی از خود بتر در جهان\n",
      "تو آنگه شوی پیش مردم عزیز\n",
      "که مر خویشتن را نگیری به چیز\n",
      "بزرگی که خود را به خردی شمرد\n",
      "به دنیا و عقبی بزرگی ببرد\n",
      "از این خاکدان بنده‌ای پاک شد\n",
      "که در پای کمتر کسی خاک شد\n",
      "الا ای که بر خاک ما بگذری\n",
      "به خاک عزیزان که یاد آوری\n",
      "که گر خاک شد سعدی، او را چه غم؟\n",
      "که در زندگی خاک بوده‌ست هم\n",
      "به بیچارگی تن فرا خاک داد\n",
      "وگر گرد عالم برآمد چو باد\n",
      "بسی برنیاید که خاکش خورد\n",
      "دگر باره بادش به عالم برد\n",
      "مگر تا گلستان معنی شکفت\n",
      "بر او هیچ بلبل چنین خوش نگفت\n",
      "عجب گر بمیرد چنین بلبلی\n",
      "که بر استخوانش نروید گلی\n",
      "\n"
     ]
    }
   ],
   "source": [
    "#copy df\n",
    "poems = df.copy()\n",
    "print(df.at[223, 0])"
   ]
  },
  {
   "cell_type": "markdown",
   "metadata": {
    "id": "w-63M46AhEW-"
   },
   "source": [
    "<div align=\"right\" dir=\"rtl\">\n",
    "    <h3>پیش‌پردازش اولیه</h3>\n",
    "    در این مرحله از پیش‌پردازش، ابتدا واژگانی مانند «مر» حذف می‌شود و مواردی مانند «گه» در انتهای واژگان یا «ز» حذف می‌شوند.\n",
    "    <br>\n",
    "    همچنین افعالی که حالت ماضی باستانی داشته باشند به حالت عادی بازگردانده می‌شوند که اشعار ما یکپارچه باشند و عملکرد مدل‌ها بهتر شود.\n",
    "</div>"
   ]
  },
  {
   "cell_type": "code",
   "execution_count": 6,
   "metadata": {
    "id": "aVJRZVtGhEW-"
   },
   "outputs": [],
   "source": [
    "normalizer = Normalizer()\n",
    "lemmatizer = Lemmatizer()\n",
    "\n",
    "for i in range(0, df.shape[0]):\n",
    "    df.at[i, 0] = normalizer.normalize(df.at[i, 0]).replace(' ز ', ' از ').replace(' مر ', ' ') #normalize beshe va z beshe az\n",
    "    \n",
    "    words = word_tokenize(df.at[i, 0])\n",
    "    \n",
    "    for j in range(0, len(words)):\n",
    "        \n",
    "        word = words[j]\n",
    "        past_root = lemmatizer.lemmatize(word).split('#', 1)[0]\n",
    "        past_root = past_root.replace('آ', 'ا')\n",
    "        word_modified = word.replace(past_root, '')\n",
    "        \n",
    "        if word_modified != '':\n",
    "            if word_modified[0] == 'ب' and len(word_modified) < 4:\n",
    "                #yani fele maazi bode be forme ghadimi\n",
    "                df.at[i, 0] = df.at[i, 0].replace(word, word[1:])\n",
    "        \n",
    "        if word.endswith('گه'):\n",
    "            df.at[i, 0] = df.at[i, 0].replace(word, word[:-2]+'گاه')"
   ]
  },
  {
   "cell_type": "markdown",
   "metadata": {
    "id": "1pW0GYBihEW_"
   },
   "source": [
    "<div align=\"right\" dir=\"rtl\">\n",
    "    <h3>ادامه‌ی پیش‌پردازش</h3>\n",
    "    در این قسمت افعال ماضی که بجای «ن» با «م» شروع می‌شوند، اصلاح می‌شوند که یکپارچگی اشعار حفظ شود.\n",
    "    <br>\n",
    "    در ادامه نیز استاپ‌وورد ها حذف می‌شوند و لمتایز کردن متن انجام می‌شود. همچنین یک دیکشنری از افعالی که هضم ندارد اضافه کرده‌ایم تا هنگام لمتایز کردن، این افعال دچار مشکل نشوند.\n",
    "</div>"
   ]
  },
  {
   "cell_type": "code",
   "execution_count": 7,
   "metadata": {
    "id": "J45rlhzehEXA"
   },
   "outputs": [],
   "source": [
    "for i in range(0, df.shape[0]):\n",
    "    \n",
    "    words = word_tokenize(df.at[i, 0])\n",
    "    \n",
    "    for j in range(0, len(words)):\n",
    "        \n",
    "        word = words[j]\n",
    "        \n",
    "        if word[0] == 'م':\n",
    "            word_modified = 'ب' + word[1:]\n",
    "            present_root = lemmatizer.lemmatize(word_modified).split('#', 1)[-1]\n",
    "            present_root = present_root.replace('آ', 'ا')\n",
    "            word_modified = word_modified.replace(present_root, '')\n",
    "            \n",
    "            if word_modified == 'ب':\n",
    "                \n",
    "                df.at[i, 0] = df.at[i, 0].replace(word, 'ن'+word[1:])"
   ]
  },
  {
   "cell_type": "code",
   "execution_count": 8,
   "metadata": {
    "id": "D6MdEN8-hEXB"
   },
   "outputs": [],
   "source": [
    "with open('Exception.txt', encoding='utf8') as exc:\n",
    "    data = exc.read()\n",
    "special_verbs = json.loads(data)\n",
    "\n",
    "\n",
    "df_temp = pd.DataFrame(columns=[0])\n",
    "stopwords = ['!','،','؟','ز','ار']+[normalizer.normalize(x.strip()) for x in codecs.open('stopwords.txt','r','utf-8').readlines()]\n",
    "\n",
    "for i in range(0, df.shape[0]):\n",
    "    \n",
    "    words = word_tokenize(df.at[i, 0])\n",
    "    words = [t for t in words if t not in stopwords]\n",
    "    lemmatized_tokens = []\n",
    "    \n",
    "    for t in words:\n",
    "        if t in special_verbs.keys():\n",
    "            lemmatized_tokens.append(t)\n",
    "        else:\n",
    "            lemmatized_tokens.append(lemmatizer.lemmatize(t).split('#')[0])\n",
    "    \n",
    "    lemmatized = ' '.join(lemmatized_tokens)\n",
    "            \n",
    "    df.at[i, 0] = lemmatized\n",
    "    df_temp.at[i, 0] = lemmatized_tokens\n",
    "\n"
   ]
  },
  {
   "cell_type": "code",
   "execution_count": 9,
   "metadata": {
    "colab": {
     "base_uri": "https://localhost:8080/"
    },
    "id": "-NAD4WfnhEXD",
    "outputId": "65b6ce85-3195-414b-f33b-4ae02bbe76d2"
   },
   "outputs": [
    {
     "name": "stdout",
     "output_type": "stream",
     "text": [
      "['شنید', 'وقت', 'نزع', 'روان', 'هرمز', 'نوشیروان', 'خاطر', 'نگهدار', 'درویش', 'باش', 'بند', 'آسایش', 'باش', 'نیاساید', 'اندر', 'دیار', 'کس', 'چو', 'آسایش', 'جو', 'بس', 'آمد', 'دانا', 'پسند', 'شبان', 'خفته', 'گرگ', 'گوسفند', 'برو', 'پاس', 'درویش', 'محتاج', 'شاه', 'رعیت', 'تاجدار', 'رعیت', 'چو', 'بیخند', 'سلطان', 'درخت', 'درخت', 'ای', 'پسر', 'بیخ', 'سخت', 'کرد', 'توانی', 'دل', 'خلق', 'ریش', 'وگر', 'کرد', 'کرد', 'بیخ', 'جاده', 'باید', 'مستقیم', 'ره', 'پارسا', 'امید', 'بیم', 'طبیعت', 'مرد', 'بخردی', 'امید', 'نیک', 'بیم', 'بدی', 'گر', 'پادشه', 'یافت', 'اقلیم', 'ملک', 'پنه', 'یافت', 'بخشایش', 'آرد', 'امیدوار', 'امید', 'بخشایش', 'کردگار', 'گزند', 'کسانش', 'آمد', 'پسند', 'ترسید', 'ملک', 'آمد', 'گزند', 'وگر', 'سرشت', 'خو', 'کشور', 'آسودگی', 'بو', 'پای', 'رضا', 'گیر', 'وگر', 'سوار', 'سر', 'گیر', 'فراخ', 'مرز', 'کشور', 'خواست', 'دلتنگ', 'بینی', 'رعیت', 'شاه', 'مستکبر', 'دلاور', 'ترسید', 'کاو', 'ترسید', 'داور', 'ترسید', 'دگر', 'کشور', 'آباد', 'دید', 'خواب', 'دل', 'اهل', 'کشور', 'خراب', 'خراب', 'بدنام', 'آمد', 'جور', 'رسید', 'سخن', 'غور', 'رعیت', 'نشاید', 'بیداد', 'کشت', 'سلطنت', 'پناهند', 'مراعات', 'دهقان', 'کن', 'بهر', 'مزدور', 'خوشدل', 'کار', 'مروت', 'بود', 'بدی', 'کز', 'نیکو', 'دید', 'بس', 'شنید', 'خسرو', 'شیرویه', 'دم', 'چشم', 'زدیدن', 'بخفت', 'باش', 'هرچه', 'نیت', 'کرد', 'صلاح', 'رعیت', 'کرد', 'الا', 'پیچید', 'سر', 'عدل', 'را', 'مردم', 'دست', 'پیچید', 'پای', 'گریزد', 'رعیت', 'بیدادگر', 'نام', 'زشت', 'گیتی', 'سمر', 'بس', 'آمد', 'بنیاد', 'کرد', 'بنهاد', 'بنیاد', 'بد', 'خراب', 'مرد', 'شمشیر', 'زن', 'چندان', 'دود', 'دل', 'طفل', 'زن', 'چراغ', 'بیوه', 'زنی', 'برفروخت', 'بس', 'دید', 'شهر', 'بسوخت', 'بهره\\u200cور', 'آفاق', 'کیست', 'ملکرانی', 'انصاف', 'زیست', 'چو', 'نوبت', 'رسید', 'زین', 'جهان', 'غربت', 'ترحم', 'فرستاد', 'تربت', 'بد', 'نیک', 'مردم', 'چو', 'می\\u200cبگذرند', 'نام', 'نیک', 'برد', 'خداترس', 'رعیت', 'گمار', 'معمار', 'ملک', 'پرهیزگار', 'بد', 'اندیش', 'توس', 'خونخوار', 'خلق', 'نفع', 'جست', 'آزار', 'خلق', 'ریاست', 'دست', 'خطاست', 'دست', 'دست', 'برخداست', 'نکوکارپرور', 'دید', 'بدی', 'چو', 'بد', 'پروری', 'خصم', 'خون', 'خودی', 'مکافات', 'موذی', 'مالش', 'کرد', 'بیخ', 'برآورد', 'بن', 'کرد', 'صبر', 'عامل', 'ظلم', 'دوست', 'فربه', 'باید', 'پوست', 'سر', 'گرگ', 'برد', 'گوسفند', 'مردم', 'درید', 'خوش', 'بازارگانی', 'اسیر', 'چو', 'گردش', 'گرفت', 'دزد', 'تیر', 'چو', 'مردانگی', 'آمد', 'رهزن', 'مرد', 'لشکر', 'خیل', 'زن', 'شهنشه', 'بازارگان', 'بخست', 'خیر', 'شهر', 'لشکر', 'ببست', 'کی', 'دگر', 'هوشمند', 'چو', 'آوازه', 'رسم', 'بد', 'شنید', 'نکو', 'باید', 'نام', 'نیک', 'قبول', 'نکو', 'بازارگان', 'رسول', 'بزرگ', 'مسافر', 'جان', 'پرورند', 'نام', 'نکو', 'عالم', 'برد', 'تبه', 'مملکت', 'عن', 'قریب', 'کز', 'خاطر', 'آزرده', 'آمد', 'غریب', 'غریب', 'آشنا', 'باش', 'سیاح', 'دوست', 'سیاح', 'جلاب', 'نام', 'نکوست', 'نکو', 'ضیف', 'مسافر', 'عزیز', 'وز', 'آسیب', 'حذر', 'باش', 'بیگانه', 'پرهیز', 'نکوست', 'دشمن', 'توان', 'زی', 'دوست', 'غریب', 'فتنه', 'سر', 'میازار', 'کن', 'کشور', 'تو\\u200cگر', 'خشم', 'گرفت', 'رواست', 'خو', 'بد', 'دشمن', 'قفاست', 'وگر', 'پارس', 'باشدش', 'زاد', 'بوم', 'صنعا', 'فرستاد', 'سقلاب', 'روم', 'امان', 'داد', 'چاشت', 'نشاید', 'بلا', 'دگر', 'کس', 'گماشت', 'گفت', 'برگشته', 'باد', 'زمین', 'کز', 'مردم', 'آمد', 'قد', 'بیفزای', 'قدر', 'هرگز', 'آمد', 'پرورده', 'غدر', 'چو', 'خدمتگزاریت', 'کهن', 'حق', 'سالیانش', 'فرامش', 'کرد', 'گر', 'هرم', 'دست', 'خدمت', 'ببست', 'کرم', 'دست', '', 'شنید', 'شاپور', 'دم', 'کشید', 'چو', 'خسرو', 'رسم', 'قلم', 'کشید', 'چو', 'حال', 'بینوا', 'تباه', 'نبشت', 'حکایت', 'شاه', 'چو', 'بذل', 'جوان', 'پیر', 'مرانم', 'عمل\\u200cگر', 'داد', 'مرد', 'منعم', 'شناس', 'مفلس', 'سلطان', 'هراس', 'چو', 'مفلس', 'فرو', 'برد', 'گردن', 'دوش', 'آمد', 'دگر', 'خروش', 'چو', 'مشرف', 'دست', 'امانت', 'بدا', 'بباید', 'ناظر', 'گماشت', 'ور', 'ساخت', 'خاطر', 'مشرف', 'عمل', 'کن', 'ناظر', 'خدا', 'ترس', 'امانت', 'گزار', 'امین', 'کز', 'ترسید', 'امین', 'ندار', 'امین', 'داور', 'اندیشناک', 'رفع', 'دیوان', 'زجر', 'هلاک', 'بیفشان', 'شمرد', 'فارغ', 'نشین', 'صد', 'دید', 'امین', 'همجنس', 'دیرینه', 'هم\\u200cقلم', 'فرستاد', 'دانست', 'همدست', 'گشت', 'یار', 'دزد', 'پرده\\u200cدار', 'چو', 'دزد', 'باک', 'بیم', 'رود', 'کاروان', 'سلیم', 'معزول', 'کردی', 'جاه', 'چو', 'چند', 'برآید', 'ببخشش', 'گناه', 'آوردن', 'کام', 'امیدوار', 'قید', 'شکستن', 'هزار', 'نویسنده', 'را\\u200cگر', 'ستون', 'عمل', 'بیفتد', 'نبرد', 'طناب', 'امل', 'فرمانبران', 'شه', 'دادگر', 'پدروار', 'خشم', 'پسر', 'گه', 'زد', 'دردناک', 'گهی', 'آب', 'دیده', 'پاک', 'چو', 'نرمی', 'کرد', 'خصم', 'دلیر', 'وگر', 'خشم', 'سیر', 'درشت', 'نرمی', 'چو', 'رگ\\u200cزن', 'جراح', 'مرهم', '', 'جوانمرد', 'خوش', 'خو', 'بخشنده', 'باش', 'چو', 'حق', 'پاشد', 'خلق', 'پا', 'آمد', 'کس', 'اندر', 'جهان', 'کاو', 'ماند', 'مگر', 'کز', 'نام', 'نیکو', 'ماند', 'مرد', 'ماند', 'پل', 'خان', 'خان', 'مهمان', 'سرا', 'کاو', 'ماند', 'پس', 'یادگار', 'درخت', 'وجود', 'آورد', 'وگر', 'آثار', 'خیر', 'ماند', 'نشاید', 'مرگ', 'الحمد', 'خواند', 'چو', 'خواهی_که', 'نام', 'جاودان', 'کرد', 'نام', 'نیک', 'بزرگ', 'نهان', 'نقش', 'خوان', 'عهد', 'دید', 'عهد', 'شاه', 'کام', 'ناز', 'طرب', 'آخر', 'برفتند', 'بگذاشتند', 'نام', 'نیکو', 'ببرد', 'جهان', 'رسم', 'بد', 'ماند', 'جاودان', 'سمع', 'رضا', 'شنید', 'ایذا', 'کس', 'وگر', 'آمد', 'غور', 'رس', 'گنهکار', 'عذر', 'نسیان', 'بنه', 'چو', 'زنهار', 'خواهند_زنهار', 'ده', 'گر', 'آمد', 'گنهکاری', 'اندر', 'پناه', 'شرط', 'کشتن', 'گناه', 'چو', 'باری', 'بگفتند', 'شنید', 'پند', 'ده', 'گوشمال', 'زندان', 'بند', 'وگر', 'پند', 'بند', 'آمد', 'کاشت', 'درخت', 'خبیث', 'بیخ', 'برآر', 'چو', 'خشم', 'آیدت', 'گناه', 'تأمل', 'کنش', 'عقوبت', 'بس', 'سهل', 'لعل', 'بدخشان', 'شکست', 'شکسته', 'نشاید', 'دگرباره', 'بست']\n"
     ]
    }
   ],
   "source": [
    "print(df_temp.at[0, 0])"
   ]
  },
  {
   "cell_type": "markdown",
   "metadata": {
    "id": "JJfmEbrchEXD"
   },
   "source": [
    "<div align=center>\n",
    "\t\t    <font size=4 color=green>\n",
    "\t\t\t    <br />\n",
    "                بخش سوم:\n",
    "                </font>\n",
    "                <font size=3>\n",
    "                پیشنهاد شعر\n",
    "            \t<br/>\n",
    "\t\t\t</font>\n",
    "    <br/>\n",
    "    </div>\n",
    "    <hr/>"
   ]
  },
  {
   "cell_type": "code",
   "execution_count": 10,
   "metadata": {
    "id": "DJS2Tn4sUK-a"
   },
   "outputs": [],
   "source": [
    "#helper functions\n",
    "#return index of 10 largest elements\n",
    "def ten_largest_elements(list1,k):\n",
    "  templist = list1.copy()\n",
    "  index_list = []\n",
    "  for i in range(k):\n",
    "    index, largest_values = largest_element_index(templist)\n",
    "    index_list.append(index)\n",
    "    templist[index] = 0\n",
    "  return index_list\n",
    "\n",
    "#return the largest element\n",
    "def largest_element_index(temp_list):\n",
    "  largest_value = 0\n",
    "  index = 0\n",
    "  for i,element in enumerate(temp_list):\n",
    "    if element>largest_value:\n",
    "      largest_value = element\n",
    "      index = i\n",
    "  return (index,largest_value)\n",
    "\n",
    "#print poems with mentioned indices\n",
    "def print_poems(list_of_indices):\n",
    "  for i, index in enumerate(list_of_indices):\n",
    "    print(\"rank \",i+1,\":\")\n",
    "    print(poems.at[index,0],\"\\n\")"
   ]
  },
  {
   "cell_type": "markdown",
   "metadata": {
    "id": "xkglrFkLhEXE"
   },
   "source": [
    "<div dir=\"rtl\">\n",
    "\t\t    <font size=2>\n",
    "\t\t\t      1- استفاده از روش boolean\n",
    "\t\t\t</font>\n",
    "    <br/>\n",
    "    </div>"
   ]
  },
  {
   "cell_type": "code",
   "execution_count": 11,
   "metadata": {
    "id": "QFyoO5UH8mt0"
   },
   "outputs": [],
   "source": [
    "documents = list(itertools.chain(*df.values))\n",
    "number_of_documents = len(documents)"
   ]
  },
  {
   "cell_type": "code",
   "execution_count": 12,
   "metadata": {
    "id": "2BmOKXfNhEXE"
   },
   "outputs": [],
   "source": [
    "vectorizer = CountVectorizer()\n",
    "vectorizer.fit(documents)\n",
    "vocabulary = vectorizer.vocabulary_\n",
    "#unique words\n",
    "terms = list(vocabulary.keys())"
   ]
  },
  {
   "cell_type": "code",
   "execution_count": 13,
   "metadata": {
    "id": "qWyrSLZc_4R3"
   },
   "outputs": [],
   "source": [
    "#return boolean vector representation \n",
    "def bool_Representation(documents):\n",
    "  matrix = []\n",
    "  for document in documents:\n",
    "    dummy_list = []\n",
    "    for j in terms:\n",
    "      if j in document:\n",
    "        dummy_list.append(1)\n",
    "      else:\n",
    "        dummy_list.append(0)\n",
    "    matrix.append(dummy_list)\n",
    "  return matrix\n",
    "\n",
    "#return jaccard similarity between two sets\n",
    "def jaccard_similarity(A, B):\n",
    "    nominator = A.intersection(B)\n",
    "    denominator = A.union(B)\n",
    "    similarity = len(nominator)/len(denominator)\n",
    "    return similarity\n",
    "\n",
    "#return number of similar elements between query and each document\n",
    "def prediction(query_vector,matrix):\n",
    "    scores = []\n",
    "    count = 0\n",
    "    term_len = len(terms)\n",
    "    for i, vector in enumerate(matrix):\n",
    "      #we can change to sum of the query_vector and vector)\n",
    "        for t in range(term_len):\n",
    "            if(query_vector[t] == vector[t]):\n",
    "                count += 1\n",
    "        scores.append(count)\n",
    "        count = 0\n",
    "    return scores"
   ]
  },
  {
   "cell_type": "code",
   "execution_count": 14,
   "metadata": {
    "id": "D3loe0a8AV0I"
   },
   "outputs": [],
   "source": [
    "matrix_temp = bool_Representation(documents)\n",
    "def boolean_method(input):\n",
    "  # desired query [does not need a tokenization]\n",
    "  query = bool_Representation([input])[0]\n",
    "  ###########\n",
    "  scores = prediction(query,matrix_temp)\n",
    "  return scores"
   ]
  },
  {
   "cell_type": "markdown",
   "metadata": {
    "id": "AYHDJY0siwey"
   },
   "source": [
    "<div dir=\"rtl\">\n",
    "\t\t    <font size=2>\n",
    "\t\t\t      2- استفاده از tf-idf\n",
    "\t\t\t</font>\n",
    "    <br/>\n",
    "    </div>"
   ]
  },
  {
   "cell_type": "code",
   "execution_count": 15,
   "metadata": {
    "id": "HVn9vt1Zizlr"
   },
   "outputs": [],
   "source": [
    "tfidf_vectorizer = TfidfVectorizer()\n",
    "\n",
    "def tf_idf_method(input):\n",
    "  documents = list(itertools.chain(*df.values))\n",
    "  number_of_documents = len(documents)\n",
    "  # fit each time \n",
    "  tfidf_vectorizer.fit(documents)\n",
    "  tfidf_matrix = tfidf_vectorizer.transform(documents).todense().tolist()\n",
    "  #desired query [does not need tokenization]\n",
    "  query = [input]\n",
    "  #################\n",
    "  query_vector = tfidf_vectorizer.transform(query).todense().tolist()[0]\n",
    "  #calculate similarity\n",
    "  similarities = []\n",
    "  for tf_idf_vector in tfidf_matrix:\n",
    "    similarity = 1 - spatial.distance.cosine(query_vector,tf_idf_vector)\n",
    "    similarities.append(similarity)\n",
    "  return similarities"
   ]
  },
  {
   "cell_type": "markdown",
   "metadata": {
    "id": "VG6OMn9ri0ae"
   },
   "source": [
    "<div dir=\"rtl\">\n",
    "\t\t    <font size=2>\n",
    "\t\t\t      3- استفاده از روش fasttext\n",
    "\t\t\t</font>\n",
    "    <br/>\n",
    "    </div>"
   ]
  },
  {
   "cell_type": "code",
   "execution_count": 16,
   "metadata": {
    "id": "-QoXNaDYi4K_"
   },
   "outputs": [],
   "source": [
    "#set hyperparameters\n",
    "embedding_size = 60\n",
    "window_size = 40\n",
    "min_word = 5\n",
    "down_sampling = 1e-2\n",
    "word_tokenized_corpus = list(itertools.chain(*df_temp.values))\n",
    "word_tokenizad_temp = word_tokenized_corpus.copy()"
   ]
  },
  {
   "cell_type": "code",
   "execution_count": 18,
   "metadata": {
    "id": "O3UQW4zni6xO"
   },
   "outputs": [
    {
     "data": {
      "text/plain": [
       "(2239662, 2857800)"
      ]
     },
     "execution_count": 18,
     "metadata": {},
     "output_type": "execute_result"
    }
   ],
   "source": [
    "# define model and train it\n",
    "model = FastText(vector_size=embedding_size, window=window_size, min_count=min_word, sample=down_sampling)\n",
    "model.build_vocab(word_tokenized_corpus)\n",
    "model.train(word_tokenized_corpus, total_examples=len(word_tokenized_corpus), epochs=100)"
   ]
  },
  {
   "cell_type": "code",
   "execution_count": 19,
   "metadata": {
    "id": "8YD6iqJ-rr8i"
   },
   "outputs": [],
   "source": [
    "#calculate mean vector for each poem\n",
    "poem_vectors=[[]] * len(word_tokenizad_temp)\n",
    "for i,poem in enumerate(word_tokenizad_temp):\n",
    "  poem_vectors[i] = [0 for i in range(embedding_size)]\n",
    "  length = len(poem)\n",
    "  for word in poem:\n",
    "    try:\n",
    "        temp = model.wv[word]\n",
    "        vector = poem_vectors[i]\n",
    "        poem_vectors[i] = [vector[j]+temp[j] for j in range(embedding_size)]\n",
    "        break\n",
    "    except:\n",
    "        length -= 1\n",
    "  poem_vectors[i] = [item / length for item in poem_vectors[i]]"
   ]
  },
  {
   "cell_type": "code",
   "execution_count": 20,
   "metadata": {
    "id": "HCYik9CxzxKk"
   },
   "outputs": [],
   "source": [
    "def fasttext_method(input):\n",
    "  # desired query [tokenization is needed]\n",
    "  query = input\n",
    "  tokenized_query = word_tokenize(query)\n",
    "  ##############\n",
    "  query_vector = [0 for i in range(embedding_size)]\n",
    "  length = len(tokenized_query)\n",
    "  #calculate mean of query's words vectors\n",
    "  for word1 in tokenized_query:\n",
    "    try:\n",
    "          temp1 = model.wv[word1]\n",
    "          query_vector = [query_vector[j]+temp1[j] for j in range(embedding_size)]\n",
    "          break\n",
    "    except:\n",
    "          length -= 1\n",
    "  query_vector = [item / length for item in query_vector]\n",
    "  #calculate cosine similarity\n",
    "  similarities = []\n",
    "  for poem_vector in poem_vectors:\n",
    "    similarity = 1 - spatial.distance.cosine(query_vector,poem_vector)\n",
    "    similarities.append(similarity)\n",
    "  return similarities"
   ]
  },
  {
   "cell_type": "markdown",
   "metadata": {
    "id": "ILuG6vZYd8rs"
   },
   "source": [
    "<div dir=\"rtl\">\n",
    "\t\t    <font size=2>\n",
    "\t\t\t      4- استفاده از روش bert\n",
    "\t\t\t</font>\n",
    "    <br/>\n",
    "    </div>"
   ]
  },
  {
   "cell_type": "code",
   "execution_count": 21,
   "metadata": {
    "id": "MiNvuBM_eCkU"
   },
   "outputs": [
    {
     "name": "stderr",
     "output_type": "stream",
     "text": [
      "Downloading: 100%|██████████| 391/391 [00:00<00:00, 414kB/s]\n",
      "Downloading: 100%|██████████| 190/190 [00:00<00:00, 190kB/s]\n",
      "Downloading: 100%|██████████| 3.95k/3.95k [00:00<00:00, 999kB/s]\n",
      "Downloading: 100%|██████████| 2.00/2.00 [00:00<00:00, 2.01kB/s]\n",
      "Downloading: 100%|██████████| 625/625 [00:00<00:00, 155kB/s]\n",
      "Downloading: 100%|██████████| 122/122 [00:00<00:00, 24.5kB/s]\n",
      "Downloading: 100%|██████████| 229/229 [00:00<00:00, 115kB/s]\n",
      "Downloading: 100%|██████████| 438M/438M [07:49<00:00, 933kB/s]  \n",
      "Downloading: 100%|██████████| 53.0/53.0 [00:00<00:00, 10.7kB/s]\n",
      "Downloading: 100%|██████████| 112/112 [00:00<00:00, 22.5kB/s]\n",
      "Downloading: 100%|██████████| 466k/466k [00:01<00:00, 243kB/s]  \n",
      "Downloading: 100%|██████████| 399/399 [00:00<00:00, 80.0kB/s]\n",
      "Downloading: 100%|██████████| 232k/232k [00:00<00:00, 241kB/s]  \n"
     ]
    }
   ],
   "source": [
    "model_bert = SentenceTransformer('bert-base-nli-mean-tokens')"
   ]
  },
  {
   "cell_type": "code",
   "execution_count": 20,
   "metadata": {
    "id": "9EIjFhuje4nk"
   },
   "outputs": [],
   "source": [
    "def bert_method(input):\n",
    "  documents1 = list(itertools.chain(*df.values))\n",
    "  number_of_documents1 = len(documents1)\n",
    "  # desired query [tokenization is not needed]\n",
    "  query = input\n",
    "  ###########\n",
    "  documents1.append(query)\n",
    "  sentence_embeddings = model_bert.encode(documents1)\n",
    "  similarities = list(itertools.chain(*cosine_similarity(\n",
    "    [sentence_embeddings[-1]],\n",
    "    sentence_embeddings[0:number_of_documents1]\n",
    "    )))\n",
    "  return similarities"
   ]
  },
  {
   "cell_type": "markdown",
   "metadata": {
    "id": "pUbV-Kenp_qs"
   },
   "source": [
    "<div align=center>\n",
    "\t\t    <font size=4 color=green>\n",
    "\t\t\t    <br />\n",
    "                بخش نهایی:\n",
    "                </font>\n",
    "                <font size=3>\n",
    "                پیشنهاد شعر براساس ورودی داده شده\n",
    "            \t<br/>\n",
    "\t\t\t</font>\n",
    "    <br/>\n",
    "    </div>\n",
    "    <hr/>"
   ]
  },
  {
   "cell_type": "code",
   "execution_count": 29,
   "metadata": {
    "colab": {
     "base_uri": "https://localhost:8080/"
    },
    "id": "DHC_VRZvp_Bo",
    "outputId": "454c553e-f1a7-47eb-e69a-aa1351aeaed6"
   },
   "outputs": [
    {
     "name": "stdout",
     "output_type": "stream",
     "text": [
      "شنیدم که در وقت نزع روان به هرمز چنین گفت نوشیروان که خاطر نگهدار درویش باش نه در بند آسایش خویش باش نیاساید اندر دیار تو کس چو آسایش خویش جویی و بس نیاید به نزدیک دانا پسند شبان خفته و گرگ در گوسفند برو پاس درویش محتاج دار که شاه از رعیت بود تاجدار رعیت چو بیخند و سلطان درخت درخت، ای پسر، باشد از بیخ سخت مکن تا توانی دل خلق ریش وگر می‌کنی می‌کنی بیخ خویش اگر جاده‌ای بایدت مستقیم ره پارسایان امید است و بیم طبیعت شود مرد را بخردی به امید نیکی و بیم بدی گر این هر دو در پادشه یافتی در اقلیم و ملکش پنه یافتی که بخشایش آرد بر امیدوار به امید بخشایش کردگار گزند کسانش نیاید پسند که ترسد که در ملکش آید گزند وگر در سرشت وی این خوی نیست در آن کشور آسودگی بوی نیست اگر پای بندی رضا پیش گیر وگر یک سواری سر خویش گیر فراخی در آن مرز و کشور مخواه که دلتنگ بینی رعیت ز شاه ز مستکبران دلاور بترس از آن کاو نترسد ز داور بترس دگر کشور آباد بیند به خواب که دارد دل اهل کشور خراب خرابی و بدنامی آید ز جور رسد پیش بین این سخن را به غور رعیت نشاید به بیداد کشت که مر سلطنت را پناهند و پشت مراعات دهقان کن از بهر خویش که مزدور خوشدل کند کار بیش مروت نباشد بدی با کسی کز او نیکویی دیده باشی بسی شنیدم که خسرو به شیرویه گفت در آن دم که چشمش زدیدن بخفت بر آن باش تا هرچه نیت کنی نظر در صلاح رعیت کنی الا تا نپیچی سر از عدل و رای که مردم ز دستت نپیچند پای گریزد رعیت ز بیدادگر کند نام زشتش به گیتی سمر بسی بر نیاید که بنیاد خود بکند آن که بنهاد بنیاد بد خرابی کند مرد شمشیر زن نه چندان که دود دل طفل و زن چراغی که بیوه زنی برفروخت بسی دیده باشی که شهری بسوخت از آن بهره‌ورتر در آفاق کیست که در ملکرانی به انصاف زیست چو نوبت رسد زین جهان غربتش ترحم فرستند بر تربتش بد و نیک مردم چو می‌بگذرند همان به که نامت به نیکی برند خداترس را بر رعیت گمار که معمار ملک است پرهیزگار بد اندیش توست آن و خونخوار خلق که نفع تو جوید در آزار خلق ریاست به دست کسانی خطاست که از دستشان دستها برخداست نکوکارپرور نبیند بدی چو بد پروری خصم خون خودی مکافات موذی به مالش مکن که بیخش برآورد باید ز بن مکن صبر بر عامل ظلم دوست که از فربهی بایدش کند پوست سر گرگ باید هم اول برید نه چون گوسفندان مردم درید چه خوش گفت بازارگانی اسیر چو گردش گرفتند دزدان به تیر چو مردانگی آید از رهزنان چه مردان لشکر، چه خیل زنان شهنشه که بازارگان را بخست در خیر بر شهر و لشکر ببست کی آن جا دگر هوشمندان روند چو آوازهٔ رسم بد بشنوند؟ نکو بایدت نام و نیکی قبول نکو دار بازارگان و رسول بزرگان مسافر به جان پرورند که نام نکویی به عالم برند تبه گردد آن مملکت عن قریب کز او خاطر آزرده آید غریب غریب آشنا باش و سیاح دوست که سیاح جلاب نام نکوست نکو دار ضیف و مسافر عزیز وز آسیبشان بر حذر باش نیز ز بیگانه پرهیز کردن نکوست که دشمن توان بود در زی دوست غریبی که پر فتنه باشد سرش میازار و بیرون کن از کشورش تو گر خشم بر وی نگیری رواست که خود خوی بد دشمنش در قفاست وگر پارسی باشدش زاد و بوم به صنعاش مفرست و سقلاب و روم هم آن جا امانش مده تا به چاشت نشاید بلا بر دگر کس گماشت که گویند برگشته باد آن زمین کز او مردم آیند بیرون چنین قدیمان خود را بیفزای قدر که هرگز نیاید ز پرورده غدر چو خدمتگزاریت گردد کهن حق سالیانش فرامش مکن گر او را هرم دست خدمت ببست تو را بر کرم همچنان دست هست شنیدم که شاپور دم در کشید چو خسرو به رسمش قلم در کشید چو شد حالش از بینوایی تباه نبشت این حکایت به نزدیک شاه چو بذل تو کردم جوانی خویش به هنگام پیری مرانم ز پیش عمل گر دهی مرد منعم شناس که مفلس ندارد ز سلطان هراس چو مفلس فرو برد گردن به دوش از او بر نیاید دگر جز خروش چو مشرف دو دست از امانت بداشت بباید بر او ناظری بر گماشت ور او نیز در ساخت با خاطرش ز مشرف عمل بر کن و ناظرش خدا ترس باید امانت گزار امین کز تو ترسد امینش مدار امین باید از داور اندیشناک نه از رفع دیوان و زجر و هلاک بیفشان و بشمار و فارغ نشین که از صد یکی را نبینی امین دو همجنس دیرینه را هم‌قلم نباید فرستاد یک جا به هم چه دانی که همدست گردند و یار یکی دزد باشد، یکی پرده‌دار چو دزدان ز هم باک دارند و بیم رود در میان کاروانی سلیم یکی را که معزول کردی ز جاه چو چندی برآید ببخشش گناه بر آوردن کام امیدوار به از قید بندی شکستن هزار نویسنده را گر ستون عمل بیفتد، نبرد طناب امل به فرمانبران بر شه دادگر پدروار خشم آورد بر پسر گهش می‌زند تا شود دردناک گهی می‌کند آبش از دیده پاک چو نرمی کنی خصم گردد دلیر وگر خشم گیری شوند از تو سیر درشتی و نرمی به هم در به است چو رگ‌زن که جراح و مرهم نه است جوانمرد و خوش خوی و بخشنده باش چو حق بر تو پاشد تو بر خلق پاش نیامد کس اندر جهان کاو بماند مگر آن کز او نام نیکو بماند نمرد آن که ماند پس از وی به جای پل و خانی و خان و مهمان سرای هر آن کاو نماند از پسش یادگار درخت وجودش نیاورد بار وگر رفت و آثار خیرش نماند نشاید پس مرگش الحمد خواند چو خواهی که نامت بود جاودان مکن نام نیک بزرگان نهان همین نقش بر خوان پس از عهد خویش که دیدی پس از عهد شاهان پیش همین کام و ناز و طرب داشتند به آخر برفتند و بگذاشتند یکی نام نیکو ببرد از جهان یکی رسم بد ماند از او جاودان به سمع رضا مشنو ایذای کس وگر گفته آید به غورش برس گنهکار را عذر نسیان بنه چو زنهار خواهند زنهار ده گر آید گنهکاری اندر پناه نه شرط است کشتن به اول گناه چو باری بگفتند و نشنید پند بده گوشمالش به زندان و بند وگر پند و بندش نیاید بکار درختی خبیث است بیخش برآر چو خشم آیدت بر گناه کسی تأمل کنش در عقوبت بسی که سهل است لعل بدخشان شکست شکسته نشاید دگرباره بست\n",
      "Enter your desired method: fasttext\n",
      "Enter number of similar poems: 2\n",
      "rank  1 :\n",
      "شنیدم که در دشت صنعا جنید\n",
      "سگی دید برکنده دندان صید\n",
      "ز نیروی سر پنجهٔ شیر گیر\n",
      "فرومانده عاجز چو روباه پیر\n",
      "پس از غرم و آهو گرفتن به پی\n",
      "لگد خوردی از گوسفندان حی\n",
      "چو مسکین و بی طاقتش دید و ریش\n",
      "بدو داد یک نیمه از زاد خویش\n",
      "شنیدم که می‌گفت و خوش می‌گریست\n",
      "که داند که بهتر ز ما هر دو کیست؟\n",
      "به ظاهر من امروز از این بهترم\n",
      "دگر تا چه راند قضا بر سرم\n",
      "گرم پای ایمان نلغزد ز جای\n",
      "به سر بر نهم تاج عفو خدای\n",
      "وگر کسوت معرفت در برم\n",
      "نماند، به بسیار از این کمترم\n",
      "که سگ با همه زشت نامی چو مرد\n",
      "مر او را به دوزخ نخواهند برد\n",
      "ره این است سعدی که مردان راه\n",
      "به عزت نکردند در خود نگاه\n",
      "از‍‍‍‍‍‍‍‍ آن بر ملائک شرف داشتند\n",
      "که خود را به از سگ نپنداشتند\n",
      " \n",
      "\n",
      "rank  2 :\n",
      "شنیدم که در وقت نزع روان\n",
      "به هرمز چنین گفت نوشیروان\n",
      "که خاطر نگهدار درویش باش\n",
      "نه در بند آسایش خویش باش\n",
      "نیاساید اندر دیار تو کس\n",
      "چو آسایش خویش جویی و بس\n",
      "نیاید به نزدیک دانا پسند\n",
      "شبان خفته و گرگ در گوسفند\n",
      "برو پاس درویش محتاج دار\n",
      "که شاه از رعیت بود تاجدار\n",
      "رعیت چو بیخند و سلطان درخت\n",
      "درخت، ای پسر، باشد از بیخ سخت\n",
      "مکن تا توانی دل خلق ریش\n",
      "وگر می‌کنی می‌کنی بیخ خویش\n",
      "اگر جاده‌ای بایدت مستقیم\n",
      "ره پارسایان امید است و بیم\n",
      "طبیعت شود مرد را بخردی\n",
      "به امید نیکی و بیم بدی\n",
      "گر این هر دو در پادشه یافتی\n",
      "در اقلیم و ملکش پنه یافتی\n",
      "که بخشایش آرد بر امیدوار\n",
      "به امید بخشایش کردگار\n",
      "گزند کسانش نیاید پسند\n",
      "که ترسد که در ملکش آید گزند\n",
      "وگر در سرشت وی این خوی نیست\n",
      "در آن کشور آسودگی بوی نیست\n",
      "اگر پای بندی رضا پیش گیر\n",
      "وگر یک سواری سر خویش گیر\n",
      "فراخی در آن مرز و کشور مخواه\n",
      "که دلتنگ بینی رعیت ز شاه\n",
      "ز مستکبران دلاور بترس\n",
      "از آن کاو نترسد ز داور بترس\n",
      "دگر کشور آباد بیند به خواب\n",
      "که دارد دل اهل کشور خراب\n",
      "خرابی و بدنامی آید ز جور\n",
      "رسد پیش بین این سخن را به غور\n",
      "رعیت نشاید به بیداد کشت\n",
      "که مر سلطنت را پناهند و پشت\n",
      "مراعات دهقان کن از بهر خویش\n",
      "که مزدور خوشدل کند کار بیش\n",
      "مروت نباشد بدی با کسی\n",
      "کز او نیکویی دیده باشی بسی\n",
      "شنیدم که خسرو به شیرویه گفت\n",
      "در آن دم که چشمش زدیدن بخفت\n",
      "بر آن باش تا هرچه نیت کنی\n",
      "نظر در صلاح رعیت کنی\n",
      "الا تا نپیچی سر از عدل و رای\n",
      "که مردم ز دستت نپیچند پای\n",
      "گریزد رعیت ز بیدادگر\n",
      "کند نام زشتش به گیتی سمر\n",
      "بسی بر نیاید که بنیاد خود\n",
      "بکند آن که بنهاد بنیاد بد\n",
      "خرابی کند مرد شمشیر زن\n",
      "نه چندان که دود دل طفل و زن\n",
      "چراغی که بیوه زنی برفروخت\n",
      "بسی دیده باشی که شهری بسوخت\n",
      "از آن بهره‌ورتر در آفاق کیست\n",
      "که در ملکرانی به انصاف زیست\n",
      "چو نوبت رسد زین جهان غربتش\n",
      "ترحم فرستند بر تربتش\n",
      "بد و نیک مردم چو می‌بگذرند\n",
      "همان به که نامت به نیکی برند\n",
      "خداترس را بر رعیت گمار\n",
      "که معمار ملک است پرهیزگار\n",
      "بد اندیش توست آن و خونخوار خلق\n",
      "که نفع تو جوید در آزار خلق\n",
      "ریاست به دست کسانی خطاست\n",
      "که از دستشان دستها برخداست\n",
      "نکوکارپرور نبیند بدی\n",
      "چو بد پروری خصم خون خودی\n",
      "مکافات موذی به مالش مکن\n",
      "که بیخش برآورد باید ز بن\n",
      "مکن صبر بر عامل ظلم دوست\n",
      "که از فربهی بایدش کند پوست\n",
      "سر گرگ باید هم اول برید\n",
      "نه چون گوسفندان مردم درید\n",
      "چه خوش گفت بازارگانی اسیر\n",
      "چو گردش گرفتند دزدان به تیر\n",
      "چو مردانگی آید از رهزنان\n",
      "چه مردان لشکر، چه خیل زنان\n",
      "شهنشه که بازارگان را بخست\n",
      "در خیر بر شهر و لشکر ببست\n",
      "کی آن جا دگر هوشمندان روند\n",
      "چو آوازهٔ رسم بد بشنوند؟\n",
      "نکو بایدت نام و نیکی قبول\n",
      "نکو دار بازارگان و رسول\n",
      "بزرگان مسافر به جان پرورند\n",
      "که نام نکویی به عالم برند\n",
      "تبه گردد آن مملکت عن قریب\n",
      "کز او خاطر آزرده آید غریب\n",
      "غریب آشنا باش و سیاح دوست\n",
      "که سیاح جلاب نام نکوست\n",
      "نکو دار ضیف و مسافر عزیز\n",
      "وز آسیبشان بر حذر باش نیز\n",
      "ز بیگانه پرهیز کردن نکوست\n",
      "که دشمن توان بود در زی دوست\n",
      "غریبی که پر فتنه باشد سرش\n",
      "میازار و بیرون کن از کشورش\n",
      "تو گر خشم بر وی نگیری رواست\n",
      "که خود خوی بد دشمنش در قفاست\n",
      "وگر پارسی باشدش زاد و بوم\n",
      "به صنعاش مفرست و سقلاب و روم\n",
      "هم آن جا امانش مده تا به چاشت\n",
      "نشاید بلا بر دگر کس گماشت\n",
      "که گویند برگشته باد آن زمین\n",
      "کز او مردم آیند بیرون چنین\n",
      "قدیمان خود را بیفزای قدر\n",
      "که هرگز نیاید ز پرورده غدر\n",
      "چو خدمتگزاریت گردد کهن\n",
      "حق سالیانش فرامش مکن\n",
      "گر او را هرم دست خدمت ببست\n",
      "تو را بر کرم همچنان دست هست\n",
      "شنیدم که شاپور دم در کشید\n",
      "چو خسرو به رسمش قلم در کشید\n",
      "چو شد حالش از بینوایی تباه\n",
      "نبشت این حکایت به نزدیک شاه\n",
      "چو بذل تو کردم جوانی خویش\n",
      "به هنگام پیری مرانم ز پیش\n",
      "عمل گر دهی مرد منعم شناس\n",
      "که مفلس ندارد ز سلطان هراس\n",
      "چو مفلس فرو برد گردن به دوش\n",
      "از او بر نیاید دگر جز خروش\n",
      "چو مشرف دو دست از امانت بداشت\n",
      "بباید بر او ناظری بر گماشت\n",
      "ور او نیز در ساخت با خاطرش\n",
      "ز مشرف عمل بر کن و ناظرش\n",
      "خدا ترس باید امانت گزار\n",
      "امین کز تو ترسد امینش مدار\n",
      "امین باید از داور اندیشناک\n",
      "نه از رفع دیوان و زجر و هلاک\n",
      "بیفشان و بشمار و فارغ نشین\n",
      "که از صد یکی را نبینی امین\n",
      "دو همجنس دیرینه را هم‌قلم\n",
      "نباید فرستاد یک جا به هم\n",
      "چه دانی که همدست گردند و یار\n",
      "یکی دزد باشد، یکی پرده‌دار\n",
      "چو دزدان ز هم باک دارند و بیم\n",
      "رود در میان کاروانی سلیم\n",
      "یکی را که معزول کردی ز جاه\n",
      "چو چندی برآید ببخشش گناه\n",
      "بر آوردن کام امیدوار\n",
      "به از قید بندی شکستن هزار\n",
      "نویسنده را گر ستون عمل\n",
      "بیفتد، نبرد طناب امل\n",
      "به فرمانبران بر شه دادگر\n",
      "پدروار خشم آورد بر پسر\n",
      "گهش می‌زند تا شود دردناک\n",
      "گهی می‌کند آبش از دیده پاک\n",
      "چو نرمی کنی خصم گردد دلیر\n",
      "وگر خشم گیری شوند از تو سیر\n",
      "درشتی و نرمی به هم در به است\n",
      "چو رگ‌زن که جراح و مرهم نه است\n",
      "جوانمرد و خوش خوی و بخشنده باش\n",
      "چو حق بر تو پاشد تو بر خلق پاش\n",
      "نیامد کس اندر جهان کاو بماند\n",
      "مگر آن کز او نام نیکو بماند\n",
      "نمرد آن که ماند پس از وی به جای\n",
      "پل و خانی و خان و مهمان سرای\n",
      "هر آن کاو نماند از پسش یادگار\n",
      "درخت وجودش نیاورد بار\n",
      "وگر رفت و آثار خیرش نماند\n",
      "نشاید پس مرگش الحمد خواند\n",
      "چو خواهی که نامت بود جاودان\n",
      "مکن نام نیک بزرگان نهان\n",
      "همین نقش بر خوان پس از عهد خویش\n",
      "که دیدی پس از عهد شاهان پیش\n",
      "همین کام و ناز و طرب داشتند\n",
      "به آخر برفتند و بگذاشتند\n",
      "یکی نام نیکو ببرد از جهان\n",
      "یکی رسم بد ماند از او جاودان\n",
      "به سمع رضا مشنو ایذای کس\n",
      "وگر گفته آید به غورش برس\n",
      "گنهکار را عذر نسیان بنه\n",
      "چو زنهار خواهند زنهار ده\n",
      "گر آید گنهکاری اندر پناه\n",
      "نه شرط است کشتن به اول گناه\n",
      "چو باری بگفتند و نشنید پند\n",
      "بده گوشمالش به زندان و بند\n",
      "وگر پند و بندش نیاید بکار\n",
      "درختی خبیث است بیخش برآر\n",
      "چو خشم آیدت بر گناه کسی\n",
      "تأمل کنش در عقوبت بسی\n",
      "که سهل است لعل بدخشان شکست\n",
      "شکسته نشاید دگرباره بست\n",
      " \n",
      "\n"
     ]
    }
   ],
   "source": [
    "input_string = input()\n",
    "method = input(\"Enter your desired method: \")\n",
    "k = int(input(\"Enter number of similar poems: \"))\n",
    "if method == \"bert\":\n",
    "  print_poems(ten_largest_elements(bert_method(input_string),k))\n",
    "elif method == \"boolean\":\n",
    "  print_poems(ten_largest_elements(boolean_method(input_string),k))\n",
    "elif method == \"tf_idf\":\n",
    "  print_poems(ten_largest_elements(tf_idf_method(input_string),k))\n",
    "else:\n",
    "  print_poems(ten_largest_elements(fasttext_method(input_string),k))"
   ]
  },
  {
   "cell_type": "markdown",
   "metadata": {},
   "source": [
    "<div align=center>\n",
    "\t\t    <font size=4 color=green>\n",
    "                نتایج و تحلیل:\n",
    "    </font>\n",
    "</div>\n",
    "        <hr/>\n",
    "\n"
   ]
  },
  {
   "cell_type": "markdown",
   "metadata": {},
   "source": [
    "   <h3>MRR:</h3>\n",
    "    Boolean: 0.70<br>\n",
    "    TF-IDF: 0.81<br>\n",
    "    FASTTEXT: 0.56<br>\n",
    "    BERT: 0.63<br>\n",
    "<div align=\"right\" dir=\"rtl\">\n",
    "    \n",
    "  <br>\n",
    "  همانطور که مشاهده می‌شود، بر خلاف آنچه انتظار می‌رفت، روش‌های tf-idf\n",
    "    و boolean\n",
    "     عملکرد بهتری داشته‌اند که دلیل آن نوع داده‌های استفاده شده است: اگر در اشعار سعدی، که عمدتا سبک و سیاق مشابهی دارند، سعی کنیم بر اساس کانتکست مشابهت پیدا کنیم، نتیجه خیلی مناسب نخواهد بود و بسیاری از اشعار از دید چنین مدل‌هایی مشابه هستند. حتی چنانچه انسان بخواهد مشابهت اشعار را بسنجد با دشواری مواجه خواهد شد زیرا بخاطر ویژگی سهل ممتنع بودن اشعار سعدی، از لحاظ جمله‌بندی، تنوع بالایی نداریم، ولی مفاهیم متنوعی در پس واژگان این اشعار نهفته است که به سادگی قابل درک نیست. بنابراین اگر بر اساس شباهت کلمات و بدون در نظر گرفتن مفهوم جلو برویم، احتمالا شانس بهتری در سنجش مشابهت خواهیم داشت.\n",
    "</div>"
   ]
  },
  {
   "cell_type": "code",
   "execution_count": 25,
   "metadata": {},
   "outputs": [
    {
     "data": {
      "image/png": "[encoded data removed]",
      "text/plain": [
       "<Figure size 432x288 with 1 Axes>"
      ]
     },
     "metadata": {
      "needs_background": "light"
     },
     "output_type": "display_data"
    }
   ],
   "source": [
    "boolean = [1, 1, 0.319, 1, 0.73, 1, 0.251, 1, 0.37, 0.287]\n",
    "tfidf = [1, 1, 1, 1, 1, 1, 0.5, 1, 0.333, 0.305]\n",
    "fasttext = [1, 0.111, 1, 0.667, 1, 0.264, 1, 0.107, 0.25, 0.168]\n",
    "bert = [1, 1, 1, 0.667, 0.333, 0.5, 0.667, 0.542, 0.433, 0.167]\n",
    "\n",
    "x = [1, 2, 3, 4, 5, 6, 7, 8, 9, 10]\n",
    "\n",
    "plt.plot(x, boolean, label = 'Boolean',  marker='s', ms=5, linewidth=1, color='b') # square\n",
    "plt.plot(x, tfidf, label = 'TF-IDF',  marker='^', ms=5, linewidth=1, color='r') # triangle\n",
    "plt.plot(x, fasttext, label = 'FastText',  marker='+', ms=10, linewidth=1, color='#222222') # circle\n",
    "plt.plot(x, bert, label = 'BERT',  marker='D', ms=5, linewidth=1, color='#222222', linestyle='dashed') # diamond\n",
    "\n",
    "plt.ylabel('MRR',fontsize=12)\n",
    "\n",
    "plt.xlabel('Query #',fontsize=12)\n",
    "plt.yticks(fontsize=11)\n",
    "\n",
    "plt.xticks([1, 2, 3, 4, 5, 6, 7, 8, 9, 10], fontsize=12)\n",
    "plt.legend(fontsize=12, loc='upper right')\n",
    "plt.show()"
   ]
  }
 ],
 "metadata": {
  "colab": {
   "collapsed_sections": [],
   "name": "poem generator.ipynb",
   "provenance": []
  },
  "interpreter": {
   "hash": "14958d3aee5f1cad06795f787e54b96185c25fb40dfec723a5be941f3a531b8c"
  },
  "kernelspec": {
   "display_name": "Python 3 (ipykernel)",
   "language": "python",
   "name": "python3"
  },
  "language_info": {
   "codemirror_mode": {
    "name": "ipython",
    "version": 3
   },
   "file_extension": ".py",
   "mimetype": "text/x-python",
   "name": "python",
   "nbconvert_exporter": "python",
   "pygments_lexer": "ipython3",
   "version": "3.9.7"
  }
 },
 "nbformat": 4,
 "nbformat_minor": 1
}
